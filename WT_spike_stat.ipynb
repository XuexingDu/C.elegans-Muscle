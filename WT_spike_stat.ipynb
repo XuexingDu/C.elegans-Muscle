{
 "cells": [
  {
   "cell_type": "code",
   "execution_count": 1,
   "metadata": {},
   "outputs": [
    {
     "name": "stderr",
     "output_type": "stream",
     "text": [
      "/home/spirit/anaconda3/envs/sbi_env/lib/python3.10/site-packages/tqdm/auto.py:21: TqdmWarning: IProgress not found. Please update jupyter and ipywidgets. See https://ipywidgets.readthedocs.io/en/stable/user_install.html\n",
      "  from .autonotebook import tqdm as notebook_tqdm\n"
     ]
    }
   ],
   "source": [
    "# visualization\n",
    "import matplotlib as mpl\n",
    "import matplotlib.pyplot as plt\n",
    "import numpy as np\n",
    "import brainpy as bp\n",
    "import brainpy.math as bm\n",
    "import seaborn as sns\n",
    "from scipy import stats\n",
    "import itertools\n",
    "import pandas as pd\n",
    "bm.set_platform('cpu')\n",
    "from scipy.signal import find_peaks"
   ]
  },
  {
   "cell_type": "code",
   "execution_count": 2,
   "metadata": {},
   "outputs": [],
   "source": [
    "file_path = []\n",
    "file_path.append('data/WT_single1.csv')\n",
    "file_path.append('data/WT_single2.csv') \n",
    "\n",
    "WT_train1 = pd.read_csv(file_path[0])\n",
    "WT_train2 = pd.read_csv(file_path[1])\n",
    "single_spike_amp = [62.1948, 61.5235, 63.5986, 64.5752, 64.1174]"
   ]
  },
  {
   "cell_type": "code",
   "execution_count": 3,
   "metadata": {},
   "outputs": [],
   "source": [
    "train1_time = WT_train1.iloc[:-2, 0].to_numpy()\n",
    "train1_voltages = WT_train1.iloc[:-2, 2].to_numpy()   \n",
    "\n",
    "train2_time = WT_train2.iloc[:-2, 0].to_numpy()\n",
    "train2_voltages = WT_train2.iloc[:-2, 3:].to_numpy()"
   ]
  },
  {
   "cell_type": "code",
   "execution_count": 4,
   "metadata": {},
   "outputs": [],
   "source": [
    "total_time = 1.0/2* 1000.  # 总时长 (s)\n",
    "start_time = 0.1156/2 * 1000.  # 刺激启始时刻 (s)\n",
    "end_time = 0.5156/2 * 1000.  # 刺激结束时刻 (s)\n",
    "\n",
    "\n",
    "I_current_amplitude   = [30.0 ,25.0, 20.0, 15.0]  # 刺激电流幅值 (nA)\n",
    "syn_current, duration = bp.inputs.section_input(values=[0, I_current_amplitude, 0.],\n",
    "                                             durations=[start_time, end_time - start_time, total_time - end_time],\n",
    "                                             return_length=True,\n",
    "                                             dt=0.1)"
   ]
  },
  {
   "cell_type": "code",
   "execution_count": 5,
   "metadata": {},
   "outputs": [
    {
     "name": "stdout",
     "output_type": "stream",
     "text": [
      "(9999, 4)\n"
     ]
    }
   ],
   "source": [
    "data_wt = np.load(\"data/spikes.npy\")\n",
    "real_value = data_wt[:,0]\n",
    "real_time = np.linspace(0, 0.5, len(real_value))\n",
    "print(data_wt.shape)"
   ]
  },
  {
   "cell_type": "code",
   "execution_count": 6,
   "metadata": {},
   "outputs": [],
   "source": [
    "spikes_exp = []    \n",
    "isi_exp_list = [ ]\n",
    "rest_exp_list = [ ]\n",
    "v = data_wt[:,0]\n",
    "threshold = 10.\n",
    "distances = 150.\n",
    "spike_window_exp = 1600  # Number of points to take around the peak\n",
    "\n",
    "peaks, _ = find_peaks(v, height= threshold, distance=distances)\n",
    "isi_exp_list.append(np.diff(real_time[peaks])) \n",
    "\n",
    "for peak in peaks:\n",
    "    if peak - spike_window_exp // 2 >= 0 and peak + spike_window_exp // 2 < len(v):\n",
    "        spike_segment = v[peak - spike_window_exp // 2 : peak + spike_window_exp // 2]\n",
    "        spikes_exp.append(spike_segment)\n",
    "\n",
    "rest_exp_list.append(np.mean(v[real_time>0.4]))"
   ]
  },
  {
   "cell_type": "code",
   "execution_count": 7,
   "metadata": {},
   "outputs": [],
   "source": [
    "spike_window_exp1 = 400\n",
    "peaks, _ = find_peaks(train1_voltages, height= 25, distance=distances)\n",
    "v = train1_voltages\n",
    "# isi_exp_list.append(np.diff(train1_time[peaks]))  \n",
    "\n",
    "for peak in peaks:\n",
    "    if peak - spike_window_exp1 // 2 >= 0 and peak + spike_window_exp1 // 2 < v.shape[0]:\n",
    "        spike_segment = v[peak - spike_window_exp1 // 2 : peak + spike_window_exp1 // 2]\n",
    "        spikes_exp.append(spike_segment)\n",
    "\n",
    "rest_exp_list.append(np.mean(v[train1_time> 3.]))  "
   ]
  },
  {
   "cell_type": "code",
   "execution_count": 8,
   "metadata": {},
   "outputs": [],
   "source": [
    "for i in range(train2_voltages.shape[1]):\n",
    "    v = train2_voltages[:,i]\n",
    "    peaks, _ = find_peaks(v, height=threshold, distance=distances)\n",
    "    isi_exp = np.diff(train2_time[peaks]) \n",
    "    isi_exp_list.append(isi_exp)\n",
    "    for peak in peaks:\n",
    "        if peak - spike_window_exp // 2 >= 0 and peak + spike_window_exp // 2 < len(v):\n",
    "            spike_segment = v[peak - spike_window_exp // 2 : peak + spike_window_exp // 2]\n",
    "            spikes_exp.append(spike_segment)\n",
    "    rest_exp_list.append(np.mean(v[train2_time> 0.5]))                    "
   ]
  },
  {
   "cell_type": "code",
   "execution_count": 9,
   "metadata": {},
   "outputs": [
    {
     "name": "stdout",
     "output_type": "stream",
     "text": [
      "[65.5213 59.5398 60.5164 60.4859 59.4482 59.2651 59.6924 61.1878 61.7371\n",
      " 61.8286 60.9436 61.3708 60.5163 60.0281 59.7534 58.5633 58.2275 55.7556\n",
      " 55.9387 54.84   52.7648 52.0935 60.1502 61.4624 59.021  60.0281 61.6455\n",
      " 58.4412 58.5022 60.3942 60.2112 57.3425 58.3191 60.1502 60.6384 57.4341\n",
      " 58.1359 59.4177 59.7229 59.9975 56.5491 57.9834 59.3566 58.9905 58.8378\n",
      " 61.5845 62.1948 61.5235 63.5986 64.5752 64.1174]\n"
     ]
    }
   ],
   "source": [
    "wt_exp_amp = []\n",
    "for spike in spikes_exp:\n",
    "    wt_exp_amp.append(np.max(spike) - np.min(spike))\n",
    "wt_exp_amp += single_spike_amp\n",
    "wt_exp_amp = np.array(wt_exp_amp)\n",
    "print(wt_exp_amp)\n"
   ]
  },
  {
   "cell_type": "code",
   "execution_count": 10,
   "metadata": {},
   "outputs": [
    {
     "data": {
      "text/plain": [
       "59.614586274509804"
      ]
     },
     "execution_count": 10,
     "metadata": {},
     "output_type": "execute_result"
    }
   ],
   "source": [
    "np.mean(wt_exp_amp)"
   ]
  },
  {
   "cell_type": "code",
   "execution_count": 11,
   "metadata": {},
   "outputs": [
    {
     "name": "stdout",
     "output_type": "stream",
     "text": [
      "[array([0.04670934, 0.04675935, 0.04830966]), array([0.05912]), array([0.05832, 0.05816]), array([0.06004, 0.0592 , 0.16422]), array([0.0583 , 0.05782, 0.05816]), array([0.0578 , 0.056  , 0.05916, 0.06046]), array([0.05912, 0.05998, 0.06216, 0.06282, 0.0632 ])]\n"
     ]
    }
   ],
   "source": [
    "print(isi_exp_list)"
   ]
  },
  {
   "cell_type": "code",
   "execution_count": 12,
   "metadata": {},
   "outputs": [
    {
     "name": "stdout",
     "output_type": "stream",
     "text": [
      "0.06265801693672068\n"
     ]
    }
   ],
   "source": [
    "isi_exp = np.concatenate(isi_exp_list) \n",
    "print(np.mean(isi_exp))"
   ]
  },
  {
   "cell_type": "code",
   "execution_count": 13,
   "metadata": {},
   "outputs": [],
   "source": [
    "WT_sim_trace = np.load(\"data/WT_sim.npz\")"
   ]
  },
  {
   "cell_type": "code",
   "execution_count": 14,
   "metadata": {},
   "outputs": [],
   "source": [
    "spikes_sim = []    \n",
    "spike_window_sim = 800\n",
    "v = WT_sim_trace['aike'].flatten()\n",
    "time_sim = WT_sim_trace['aike_time'].flatten()\n",
    "peaks, _ = find_peaks(v, height= threshold, distance=distances)\n",
    "isi_sim = np.diff(time_sim[peaks])\n",
    "\n",
    "for peak in peaks:\n",
    "    if peak - spike_window_sim // 2 >= 0 and peak + spike_window_sim // 2 < len(v):\n",
    "        spike_segment = v[peak - spike_window_sim // 2 : peak + spike_window_sim // 2]\n",
    "        spikes_sim.append(spike_segment)\n",
    "\n",
    "wt_sim_amp = []\n",
    "for spike in spikes_sim:\n",
    "    wt_sim_amp.append(np.max(spike) - np.min(spike))        "
   ]
  },
  {
   "cell_type": "code",
   "execution_count": 15,
   "metadata": {},
   "outputs": [
    {
     "name": "stdout",
     "output_type": "stream",
     "text": [
      "59.18956\n"
     ]
    },
    {
     "data": {
      "text/plain": [
       "array([0.05191038, 0.04780956, 0.04670934])"
      ]
     },
     "execution_count": 15,
     "metadata": {},
     "output_type": "execute_result"
    }
   ],
   "source": [
    "print(np.mean(wt_sim_amp))\n",
    "np.diff(time_sim[peaks])"
   ]
  },
  {
   "cell_type": "code",
   "execution_count": 16,
   "metadata": {},
   "outputs": [
    {
     "name": "stdout",
     "output_type": "stream",
     "text": [
      "[array([0.04670934, 0.04675935, 0.04830966]), array([0.04712]), array([0.04632, 0.04616]), array([0.04804, 0.0472 , 0.15222]), array([0.0463 , 0.04582, 0.04616]), array([0.0458 , 0.044  , 0.04716, 0.04846])]\n"
     ]
    }
   ],
   "source": [
    "isi_exp_list_trial = isi_exp_list\n",
    "for i in range(1, len(isi_exp_list)):\n",
    "    isi_exp_list_trial[i] = isi_exp_list[i] - 0.012\n",
    "isi_exp_list_trial.pop()\n",
    "print(isi_exp_list_trial)"
   ]
  },
  {
   "cell_type": "code",
   "execution_count": 17,
   "metadata": {},
   "outputs": [
    {
     "data": {
      "text/plain": [
       "[-25.542156600000002,\n",
       " -28.119455573505654,\n",
       " -29.137604831449433,\n",
       " -28.40654050215064,\n",
       " -27.23892820846254,\n",
       " -27.657455336600982,\n",
       " -27.25849304791437,\n",
       " -26.08191588476543]"
      ]
     },
     "execution_count": 17,
     "metadata": {},
     "output_type": "execute_result"
    }
   ],
   "source": [
    "rest_exp_list"
   ]
  },
  {
   "cell_type": "code",
   "execution_count": 18,
   "metadata": {},
   "outputs": [],
   "source": [
    "WT_exp_rest = np.array(rest_exp_list)"
   ]
  },
  {
   "cell_type": "code",
   "execution_count": 20,
   "metadata": {},
   "outputs": [
    {
     "name": "stdout",
     "output_type": "stream",
     "text": [
      "-23.796795\n"
     ]
    }
   ],
   "source": [
    "WT_exp_isi = np.concatenate(isi_exp_list_trial)\n",
    "v_sim = WT_sim_trace['aike'].flatten()\n",
    "time_sim = WT_sim_trace['aike_time'].flatten()\n",
    "WT_sim_rest = np.mean(v_sim[time_sim>0.4])\n",
    "print(WT_sim_rest)"
   ]
  },
  {
   "cell_type": "code",
   "execution_count": 21,
   "metadata": {},
   "outputs": [
    {
     "name": "stdout",
     "output_type": "stream",
     "text": [
      "[-25.542156600000002, -28.119455573505654, -29.137604831449433, -28.40654050215064, -27.23892820846254, -27.657455336600982, -27.25849304791437, -26.08191588476543]\n"
     ]
    }
   ],
   "source": [
    "print(rest_exp_list)"
   ]
  },
  {
   "cell_type": "code",
   "execution_count": 22,
   "metadata": {},
   "outputs": [],
   "source": [
    "np.save(\"data/WT_exp_amp.npy\", wt_exp_amp)\n",
    "np.save(\"data/WT_exp_isi.npy\", WT_exp_isi)\n",
    "np.save(\"data/WT_sim_amp.npy\", wt_sim_amp)\n",
    "np.save(\"data/WT_sim_isi.npy\", isi_sim)\n",
    "np.save(\"data/WT_exp_rest.npy\", WT_exp_rest)"
   ]
  },
  {
   "cell_type": "code",
   "execution_count": null,
   "metadata": {},
   "outputs": [],
   "source": []
  }
 ],
 "metadata": {
  "kernelspec": {
   "display_name": "sbi_env",
   "language": "python",
   "name": "python3"
  },
  "language_info": {
   "codemirror_mode": {
    "name": "ipython",
    "version": 3
   },
   "file_extension": ".py",
   "mimetype": "text/x-python",
   "name": "python",
   "nbconvert_exporter": "python",
   "pygments_lexer": "ipython3",
   "version": "3.10.11"
  }
 },
 "nbformat": 4,
 "nbformat_minor": 2
}
